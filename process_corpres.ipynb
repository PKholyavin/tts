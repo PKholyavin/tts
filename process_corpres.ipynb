{
  "cells": [
    {
      "cell_type": "markdown",
      "metadata": {
        "id": "yEFjHhWVs-IB"
      },
      "source": [
        "1. Посмотреть распределение аллофонов:\n",
        "\n",
        "1.0. Определить группы контекстов  \n",
        "1.1. Прочитать файлы  \n",
        "1.2. Найти аллофоны (B1)  \n",
        "1.2.1. Сохранить аллофон с соседями  "
      ]
    },
    {
      "cell_type": "code",
      "execution_count": 23,
      "metadata": {},
      "outputs": [],
      "source": [
        "import re"
      ]
    },
    {
      "cell_type": "code",
      "execution_count": null,
      "metadata": {
        "id": "fcwcD3gEs-IF"
      },
      "outputs": [],
      "source": [
        "left_vowel_contexts = {\n",
        "\n",
        "}"
      ]
    },
    {
      "cell_type": "code",
      "execution_count": 2,
      "metadata": {
        "id": "2XSwXfSzs-IG"
      },
      "outputs": [],
      "source": [
        "from itertools import product\n",
        "letters = \"GBRY\"\n",
        "nums = \"1234\"\n",
        "levels = [ch + num for num, ch in product(nums, letters)]\n",
        "level_codes = [2 ** i for i in range(len(levels))]\n",
        "code_to_level = {i: j for i, j in zip(level_codes, levels)}\n",
        "level_to_code = {j: i for i, j in zip(level_codes, levels)}"
      ]
    },
    {
      "cell_type": "code",
      "execution_count": 3,
      "metadata": {
        "id": "mcVQHpDxs-IH"
      },
      "outputs": [],
      "source": [
        "def read_seg(filename: str, encoding: str = \"utf-8-sig\") -> tuple[dict, list[dict]]:\n",
        "    with open(filename, encoding=encoding) as f:\n",
        "        lines = [line.strip() for line in f.readlines()]\n",
        "\n",
        "    # найдём границы секций в списке строк:\n",
        "    header_start = lines.index(\"[PARAMETERS]\") + 1\n",
        "    data_start = lines.index(\"[LABELS]\") + 1\n",
        "\n",
        "    # прочитаем параметры\n",
        "    params = {}\n",
        "    for line in lines[header_start:data_start - 1]:\n",
        "        key, value = line.split(\"=\")\n",
        "        params[key] = int(value)\n",
        "\n",
        "    # прочитаем метки\n",
        "    labels = []\n",
        "    for line in lines[data_start:]:\n",
        "        # если в строке нет запятых, значит, это не метка и метки закончились\n",
        "        if line.count(\",\") < 2:\n",
        "            break\n",
        "        pos, level, name = line.split(\",\", maxsplit=2)\n",
        "        label = {\n",
        "            \"position\": int(pos) // params[\"BYTE_PER_SAMPLE\"] // params[\"N_CHANNEL\"],\n",
        "            \"level\": code_to_level[int(level)],\n",
        "            \"name\": name\n",
        "        }\n",
        "        labels.append(label)\n",
        "    return params, labels"
      ]
    },
    {
      "cell_type": "code",
      "execution_count": 1,
      "metadata": {},
      "outputs": [],
      "source": [
        "import struct"
      ]
    },
    {
      "cell_type": "code",
      "execution_count": 4,
      "metadata": {},
      "outputs": [],
      "source": [
        "def read_sbl(filename):\n",
        "    samplerate = 22050\n",
        "    sampwidth = 2\n",
        "    num_channels = 1\n",
        "    sampwidth_to_char = {1: \"c\", 2: \"h\", 4: \"i\"}\n",
        "\n",
        "    with open(filename, \"rb\") as f:\n",
        "        raw_signal = f.read()\n",
        "\n",
        "    num_samples = len(raw_signal) // sampwidth\n",
        "    fmt = str(num_samples) + sampwidth_to_char[sampwidth]\n",
        "    signal = struct.unpack(fmt, raw_signal)\n",
        "    return signal"
      ]
    },
    {
      "cell_type": "code",
      "execution_count": 21,
      "metadata": {},
      "outputs": [],
      "source": [
        "def cut_sbl_by_labels(sbl_file, seg_file):\n",
        "    signal = read_sbl(sbl_file)\n",
        "    params, labels = read_seg(seg_file)\n",
        "    labels_contexts = get_contexts_and_start_end(labels)\n",
        "    signal_cut = {}\n",
        "    for label in labels_contexts:\n",
        "        signal_cut[label[:3]] = signal[label[3]:label[4]]\n",
        "    return signal_cut"
      ]
    },
    {
      "cell_type": "code",
      "execution_count": 47,
      "metadata": {},
      "outputs": [],
      "source": [
        "from collections import defaultdict"
      ]
    },
    {
      "cell_type": "code",
      "execution_count": 48,
      "metadata": {},
      "outputs": [],
      "source": [
        "def cut_sbl_by_labels_2_electric_boogaloo(sbl_file, seg_file):\n",
        "    signal = read_sbl(sbl_file)\n",
        "    params, labels = read_seg(seg_file)\n",
        "    labels_contexts = get_contexts_and_start_end(labels)\n",
        "    signal_cut = defaultdict(list)\n",
        "    for label in labels_contexts:\n",
        "        signal_cut[label[:3]].append(signal[label[3]:label[4]])\n",
        "    return signal_cut"
      ]
    },
    {
      "cell_type": "markdown",
      "metadata": {
        "id": "W6Umbynts-IH"
      },
      "source": [
        "Нам понадобится файл cta_seg.zip"
      ]
    },
    {
      "cell_type": "code",
      "execution_count": 4,
      "metadata": {
        "id": "wRnZn-4Ds-IH"
      },
      "outputs": [],
      "source": [
        "!unzip -q cta_seg.zip"
      ]
    },
    {
      "cell_type": "code",
      "execution_count": 5,
      "metadata": {
        "id": "XFzGTQris-II"
      },
      "outputs": [],
      "source": [
        "import glob\n",
        "files_B1 = glob.glob(r\"D:\\CORPRES\\careva\\cta\\**\\*.seg_B1\", recursive=True)"
      ]
    },
    {
      "cell_type": "code",
      "execution_count": 25,
      "metadata": {},
      "outputs": [],
      "source": [
        "res = cut_sbl_by_labels(files_B1[0].replace(\".seg_B1\", \".sbl\"), files_B1[0])"
      ]
    },
    {
      "cell_type": "code",
      "execution_count": 26,
      "metadata": {},
      "outputs": [
        {
          "data": {
            "text/plain": [
              "[('start', 'j', 'rounded'),\n",
              " ('j', 'u0', 'palat'),\n",
              " ('vowels', \"r'\", 'unrounded'),\n",
              " ('dentals_palat', 'i4', 'dentals'),\n",
              " ('vowels', 't', 'sonorants'),\n",
              " ('consonants', \"r'\", 'unrounded'),\n",
              " ('dentals_palat', 'i0', 'labials'),\n",
              " ('vowels', 'f', 'unrounded'),\n",
              " ('labials', 'a4', 'dentals'),\n",
              " ('vowels', 'n', 'unrounded'),\n",
              " ('n', 'a4', 'labials'),\n",
              " ('vowels', 'f', 'end')]"
            ]
          },
          "execution_count": 26,
          "metadata": {},
          "output_type": "execute_result"
        }
      ],
      "source": [
        "list(res.keys())"
      ]
    },
    {
      "cell_type": "code",
      "execution_count": 28,
      "metadata": {},
      "outputs": [
        {
          "data": {
            "text/html": [
              "\n",
              "                <audio  controls=\"controls\" >\n",
              "                    <source src=\"data:audio/wav;base64,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\" type=\"audio/wav\" />\n",
              "                    Your browser does not support the audio element.\n",
              "                </audio>\n",
              "              "
            ],
            "text/plain": [
              "<IPython.lib.display.Audio object>"
            ]
          },
          "execution_count": 28,
          "metadata": {},
          "output_type": "execute_result"
        }
      ],
      "source": [
        "from IPython.display import Audio\n",
        "Audio(res[('vowels', 't', 'sonorants')], rate=22050)"
      ]
    },
    {
      "cell_type": "code",
      "execution_count": 29,
      "metadata": {},
      "outputs": [],
      "source": [
        "allophones_dict = {}\n",
        "for file in files_B1:\n",
        "    allophones_dict.update(cut_sbl_by_labels(file.replace(\".seg_B1\", \".sbl\"), file))"
      ]
    },
    {
      "cell_type": "code",
      "execution_count": 30,
      "metadata": {},
      "outputs": [
        {
          "data": {
            "text/plain": [
              "2609"
            ]
          },
          "execution_count": 30,
          "metadata": {},
          "output_type": "execute_result"
        }
      ],
      "source": [
        "len(allophones_dict)"
      ]
    },
    {
      "cell_type": "code",
      "execution_count": 49,
      "metadata": {},
      "outputs": [],
      "source": [
        "allophones_dict_2 = defaultdict(list)\n",
        "for file in files_B1:\n",
        "    small_dict = cut_sbl_by_labels_2_electric_boogaloo(file.replace(\".seg_B1\", \".sbl\"), file)\n",
        "    for context, parts in small_dict.items():\n",
        "        allophones_dict_2[context].extend(parts)"
      ]
    },
    {
      "cell_type": "code",
      "execution_count": 50,
      "metadata": {},
      "outputs": [],
      "source": [
        "mean_durs = {}\n",
        "for allophone in allophones_dict_2:\n",
        "    mean_durs[allophone] = np.mean([len(i) for i in allophones_dict_2[allophone]])"
      ]
    },
    {
      "cell_type": "code",
      "execution_count": 54,
      "metadata": {},
      "outputs": [],
      "source": [
        "allophones_dict_mean_durs = {}\n",
        "for allophone in allophones_dict_2:\n",
        "    allophones_dict_mean_durs[allophone] = min(allophones_dict_2[allophone], key=lambda x: abs(len(x) - mean_durs[allophone]))"
      ]
    },
    {
      "cell_type": "code",
      "execution_count": 33,
      "metadata": {},
      "outputs": [],
      "source": [
        "def get_contexts_for_string(text):\n",
        "    text = [\"\"] + text.split(\" \") + [\"\"]\n",
        "    text_context = []\n",
        "    for l_1, l_2, l_3 in zip(text, text[1:], text[2:]):\n",
        "        if l_2.startswith(tuple(vowels)):\n",
        "            cur_class = \"vowel\"\n",
        "        elif l_2 in consonants:\n",
        "            cur_class = \"consonant\"\n",
        "        else:\n",
        "            continue\n",
        "        left_context = re.sub(\"\\d\", \"\", l_1)\n",
        "        sound2class_left = sound2class_cl if cur_class == \"consonant\" else sound2class_vl\n",
        "        sound2class_right = sound2class_cr if cur_class == \"consonant\" else sound2class_vr\n",
        "        left_class = sound2class_left.get(left_context, \"???\")\n",
        "        right_context = re.sub(\"\\d\", \"\", l_3)\n",
        "        right_class = sound2class_right.get(right_context, \"???\")\n",
        "        text_context.append((left_class, l_2, right_class))\n",
        "    return text_context"
      ]
    },
    {
      "cell_type": "code",
      "execution_count": 42,
      "metadata": {},
      "outputs": [],
      "source": [
        "test_string = \"a0 n n a4 m a2 l a1 d' e0 c\"\n",
        "test_contexts = get_contexts_for_string(test_string)"
      ]
    },
    {
      "cell_type": "code",
      "execution_count": 55,
      "metadata": {},
      "outputs": [],
      "source": [
        "signal_res = []\n",
        "for c in test_contexts:\n",
        "    part = allophones_dict_mean_durs[c]\n",
        "    signal_res.extend(part)"
      ]
    },
    {
      "cell_type": "code",
      "execution_count": 56,
      "metadata": {},
      "outputs": [
        {
          "data": {
            "text/html": [
              "\n",
              "                <audio  controls=\"controls\" >\n",
              "                    <source src=\"data:audio/wav;base64,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\" type=\"audio/wav\" />\n",
              "                    Your browser does not support the audio element.\n",
              "                </audio>\n",
              "              "
            ],
            "text/plain": [
              "<IPython.lib.display.Audio object>"
            ]
          },
          "execution_count": 56,
          "metadata": {},
          "output_type": "execute_result"
        }
      ],
      "source": [
        "from IPython.display import Audio\n",
        "Audio(signal_res, rate=22050)"
      ]
    },
    {
      "cell_type": "code",
      "execution_count": 57,
      "metadata": {},
      "outputs": [],
      "source": [
        "import scipy.io.wavfile as wavfile\n",
        "import numpy as np\n",
        "wavfile.write(\"anna2.wav\", 22050, np.asarray(signal_res, dtype=np.int16))"
      ]
    },
    {
      "cell_type": "code",
      "execution_count": 6,
      "metadata": {
        "id": "z_zpqDfcs-II"
      },
      "outputs": [],
      "source": [
        "from collections import Counter"
      ]
    },
    {
      "cell_type": "code",
      "execution_count": 7,
      "metadata": {
        "id": "-GNw_RDbs-IJ"
      },
      "outputs": [],
      "source": [
        "vowels = \"i e a o u y\".split()"
      ]
    },
    {
      "cell_type": "code",
      "execution_count": 8,
      "metadata": {
        "id": "dML83TtTs-IJ"
      },
      "outputs": [],
      "source": [
        "permissible_allophones = [\n",
        "    ('a1', 3748),\n",
        "    ('a0', 3178),\n",
        "    ('t', 3154),\n",
        "    ('o0', 3128),\n",
        "    ('i1', 3063),\n",
        "    ('n', 2948),\n",
        "    ('y4', 2699),\n",
        "    ('i4', 2682),\n",
        "    ('l', 2149),\n",
        "    ('k', 2135),\n",
        "    ('e0', 2111),\n",
        "    ('v', 2035),\n",
        "    ('r', 2017),\n",
        "    ('s', 2015),\n",
        "    (\"n'\", 1800),\n",
        "    ('d', 1726),\n",
        "    ('m', 1664),\n",
        "    ('a4', 1614),\n",
        "    ('p', 1612),\n",
        "    ('e4', 1468),\n",
        "    (\"l'\", 1432),\n",
        "    ('i0', 1311),\n",
        "    ('y1', 1272),\n",
        "    (\"s'\", 1201),\n",
        "    (\"t'\", 1144),\n",
        "    (\"r'\", 1079),\n",
        "    ('j', 1063),\n",
        "    ('z', 1017),\n",
        "    ('sh', 914),\n",
        "    ('ch', 906),\n",
        "    ('g', 859),\n",
        "    ('b', 842),\n",
        "    ('u0', 840),\n",
        "    ('u1', 807),\n",
        "    ('f', 785),\n",
        "    (\"m'\", 767),\n",
        "    ('u4', 750),\n",
        "    ('zh', 737),\n",
        "    (\"v'\", 663),\n",
        "    (\"d'\", 648),\n",
        "    ('y0', 636),\n",
        "    ('h', 542),\n",
        "    ('e1', 484),\n",
        "    ('c', 368),\n",
        "    ('a2', 365),\n",
        "    (\"k'\", 307),\n",
        "    (\"b'\", 260),\n",
        "    ('o4', 243),\n",
        "    ('sc', 233),\n",
        "    (\"p'\", 228),\n",
        "    (\"z'\", 178),\n",
        "    ('o1', 147),\n",
        "    (\"g'\", 95),\n",
        "    (\"f'\", 78),\n",
        "    ('H', 28),\n",
        "    (\"h'\", 25),\n",
        "    ('ch_', 16),\n",
        "    (\"zh'\", 14),\n",
        "    ('~', 5),\n",
        "    ('CH', 3),\n",
        "    ('C', 3),\n",
        "]"
      ]
    },
    {
      "cell_type": "code",
      "execution_count": 9,
      "metadata": {
        "id": "qdi5v7lis-IJ"
      },
      "outputs": [],
      "source": [
        "consonants = [i[0] for i in permissible_allophones if i[0][0] not in vowels]"
      ]
    },
    {
      "cell_type": "code",
      "execution_count": 10,
      "metadata": {
        "id": "TKCIU8Y-s-IJ"
      },
      "outputs": [],
      "source": [
        "class2sound_vl = {\n",
        "    \"labials\": \"f v p b\".split(),\n",
        "    \"labials_palat\": \"f' v' p' b'\".split(),\n",
        "    \"dentals\": \"t d s z c\".split(),\n",
        "    \"dentals_palat\": \"t' d' s' z' ch sc r' zh'\".split(),\n",
        "    \"postalveolars\": \"sh zh ch_\".split(),\n",
        "    \"velars\": \"k g h\".split(),\n",
        "    \"velars_palat\": \"k' g' h'\".split(),\n",
        "    \"start\": [\"\"]\n",
        "}\n",
        "class2sound_vl.update({i: [i] for i in \"m m' n n' l l' r j a o u e i y\".split()})"
      ]
    },
    {
      "cell_type": "code",
      "execution_count": 11,
      "metadata": {
        "id": "OwUdEaL2s-IL"
      },
      "outputs": [],
      "source": [
        "sound2class_vl = {j: i for i in class2sound_vl for j in class2sound_vl[i]}"
      ]
    },
    {
      "cell_type": "code",
      "execution_count": 13,
      "metadata": {
        "id": "8SZhkuKws-IL"
      },
      "outputs": [],
      "source": [
        "class2sound_vr = {\n",
        "    \"labials\": \"p b m f v\".split(),\n",
        "    \"dentals\": \"t d s z c C n r\".split(),\n",
        "    \"postalveolars\": \"sh zh ch_\".split(),\n",
        "    \"velars\": \"k g h H\".split(),\n",
        "    \"palat\": \"f' v' p' b' t' d' s' z' ch sc r' zh' k' g' h' m' n' l' r'\".split(),\n",
        "    \"end\": [\"\"]\n",
        "}\n",
        "class2sound_vr.update({i: [i] for i in \"l j a o u e i y\".split()})"
      ]
    },
    {
      "cell_type": "code",
      "execution_count": 14,
      "metadata": {
        "id": "j5ibnrLys-IL"
      },
      "outputs": [],
      "source": [
        "sound2class_vr = {j: i for i in class2sound_vr for j in class2sound_vr[i]}"
      ]
    },
    {
      "cell_type": "code",
      "execution_count": 15,
      "metadata": {
        "id": "uhkJkBJCs-IM"
      },
      "outputs": [],
      "source": [
        "class2sound_cl = {\n",
        "    \"vowels\": vowels,\n",
        "    \"consonants\": consonants,\n",
        "    \"start\": [\"\"]\n",
        "}"
      ]
    },
    {
      "cell_type": "code",
      "execution_count": 16,
      "metadata": {
        "id": "tqCljHODs-IM"
      },
      "outputs": [],
      "source": [
        "sound2class_cl = {j: i for i in class2sound_cl for j in class2sound_cl[i]}"
      ]
    },
    {
      "cell_type": "code",
      "execution_count": 17,
      "metadata": {
        "id": "KnTk7-Ors-IM"
      },
      "outputs": [],
      "source": [
        "class2sound_cr = {\n",
        "    \"rounded\": \"o u\".split(),\n",
        "    \"unrounded\": \"i e a y\".split(),\n",
        "    \"voiceless\": \"t k s p s' t' sh ch f h c k' sc p' f' h' ch_\".split(),\n",
        "    \"sonorants\": \"n l v r n' m l' r' j m' v'\".split(),\n",
        "    \"voiced\": \"d z g b zh d' b' z' g' H CH C\".split(),\n",
        "    \"end\": [\"\"]\n",
        "}"
      ]
    },
    {
      "cell_type": "code",
      "execution_count": 18,
      "metadata": {
        "id": "mEcO2vPXs-IM"
      },
      "outputs": [],
      "source": [
        "sound2class_cr = {j: i for i in class2sound_cr for j in class2sound_cr[i]}"
      ]
    },
    {
      "cell_type": "code",
      "execution_count": null,
      "metadata": {
        "id": "KP8isTDOs-IM"
      },
      "outputs": [],
      "source": [
        "parasm, labels = read_seg(\"cta_seg/cta0001.seg_B1\")"
      ]
    },
    {
      "cell_type": "code",
      "execution_count": 19,
      "metadata": {
        "id": "N2MFMarGs-IM"
      },
      "outputs": [],
      "source": [
        "import re"
      ]
    },
    {
      "cell_type": "code",
      "execution_count": 20,
      "metadata": {
        "id": "pWvDR9gTs-IN"
      },
      "outputs": [],
      "source": [
        "def get_contexts_and_start_end(labels):\n",
        "    labels = [{\"position\": 0, \"name\": \"\"}] + labels\n",
        "    labels_context = []\n",
        "\n",
        "    for l_1, l_2, l_3 in zip(labels, labels[1:], labels[2:]):\n",
        "        if l_2[\"name\"].startswith(tuple(vowels)):\n",
        "            cur_class = \"vowel\"\n",
        "        elif l_2[\"name\"] in consonants:\n",
        "            cur_class = \"consonant\"\n",
        "        else:\n",
        "            continue\n",
        "        left_context = re.sub(\"\\d\", \"\", l_1[\"name\"])\n",
        "        sound2class_left = sound2class_cl if cur_class == \"consonant\" else sound2class_vl\n",
        "        sound2class_right = sound2class_cr if cur_class == \"consonant\" else sound2class_vr\n",
        "        left_class = sound2class_left.get(left_context, \"???\")\n",
        "        right_context = re.sub(\"\\d\", \"\", l_3[\"name\"])\n",
        "        right_class = sound2class_right.get(right_context, \"???\")\n",
        "        labels_context.append((left_class, l_2[\"name\"], right_class, l_2[\"position\"], l_3[\"position\"]))\n",
        "    return labels_context"
      ]
    },
    {
      "cell_type": "code",
      "execution_count": 24,
      "metadata": {
        "colab": {
          "base_uri": "https://localhost:8080/"
        },
        "id": "8REpvZUitd2S",
        "outputId": "526053c2-d1a4-488a-fce6-b1f7d9220769"
      },
      "outputs": [
        {
          "data": {
            "text/plain": [
              "[('start', 'j', 'rounded'),\n",
              " ('j', 'u0', 'palat'),\n",
              " ('vowels', \"r'\", 'unrounded'),\n",
              " ('dentals_palat', 'i4', 'dentals'),\n",
              " ('vowels', 't', 'sonorants'),\n",
              " ('consonants', \"r'\", 'unrounded'),\n",
              " ('dentals_palat', 'i0', 'labials'),\n",
              " ('vowels', 'f', 'unrounded'),\n",
              " ('labials', 'a4', 'dentals'),\n",
              " ('vowels', 'n', 'unrounded'),\n",
              " ('n', 'a4', 'labials'),\n",
              " ('vowels', 'f', 'end')]"
            ]
          },
          "execution_count": 24,
          "metadata": {},
          "output_type": "execute_result"
        }
      ],
      "source": [
        "labels_context"
      ]
    },
    {
      "cell_type": "code",
      "execution_count": 22,
      "metadata": {
        "colab": {
          "base_uri": "https://localhost:8080/"
        },
        "id": "_Qtgc2ERs-IN",
        "outputId": "135ffb1b-5809-42f3-f8fd-18d29e0a7666"
      },
      "outputs": [
        {
          "name": "stdout",
          "output_type": "stream",
          "text": [
            "cta_seg/cta0779.seg_B1\n",
            "cta_seg/cta0920.seg_B1\n",
            "cta_seg/cta1003.seg_B1\n",
            "cta_seg/cta0378.seg_B1\n",
            "cta_seg/cta0005.seg_B1\n",
            "cta_seg/cta0736.seg_B1\n",
            "cta_seg/cta0784.seg_B1\n",
            "cta_seg/cta0338.seg_B1\n",
            "cta_seg/cta0663.seg_B1\n",
            "cta_seg/cta0200.seg_B1\n"
          ]
        }
      ],
      "source": [
        "allophones = Counter()\n",
        "for file in files_B1:\n",
        "    params, labels = read_seg(file)\n",
        "    phones = [l[\"name\"] for l in labels if l[\"name\"]]\n",
        "    if \"zh'\" in phones:\n",
        "        print(file)\n",
        "    allophones.update(phones)"
      ]
    },
    {
      "cell_type": "code",
      "execution_count": null,
      "metadata": {
        "id": "8ltgv9lSs-IN"
      },
      "outputs": [],
      "source": [
        "allophones.most_common()"
      ]
    }
  ],
  "metadata": {
    "colab": {
      "provenance": []
    },
    "kernelspec": {
      "display_name": "Python 3",
      "language": "python",
      "name": "python3"
    },
    "language_info": {
      "codemirror_mode": {
        "name": "ipython",
        "version": 3
      },
      "file_extension": ".py",
      "mimetype": "text/x-python",
      "name": "python",
      "nbconvert_exporter": "python",
      "pygments_lexer": "ipython3",
      "version": "3.10.7"
    }
  },
  "nbformat": 4,
  "nbformat_minor": 0
}
