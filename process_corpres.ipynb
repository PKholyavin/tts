{
 "cells": [
  {
   "cell_type": "markdown",
   "metadata": {},
   "source": [
    "1. Посмотреть распределение аллофонов:\n",
    "\n",
    "1.0. Определить группы контекстов  \n",
    "1.1. Прочитать файлы  \n",
    "1.2. Найти аллофоны (B1)  \n",
    "1.2.1. Сохранить аллофон с соседями  "
   ]
  },
  {
   "cell_type": "code",
   "execution_count": null,
   "metadata": {},
   "outputs": [],
   "source": [
    "left_vowel_contexts = {\n",
    "    \n",
    "}"
   ]
  },
  {
   "cell_type": "code",
   "execution_count": 1,
   "metadata": {},
   "outputs": [],
   "source": [
    "from itertools import product\n",
    "letters = \"GBRY\"\n",
    "nums = \"1234\"\n",
    "levels = [ch + num for num, ch in product(nums, letters)]\n",
    "level_codes = [2 ** i for i in range(len(levels))]\n",
    "code_to_level = {i: j for i, j in zip(level_codes, levels)}\n",
    "level_to_code = {j: i for i, j in zip(level_codes, levels)}"
   ]
  },
  {
   "cell_type": "code",
   "execution_count": 2,
   "metadata": {},
   "outputs": [],
   "source": [
    "def read_seg(filename: str, encoding: str = \"utf-8-sig\") -> tuple[dict, list[dict]]:\n",
    "    with open(filename, encoding=encoding) as f:\n",
    "        lines = [line.strip() for line in f.readlines()]\n",
    "\n",
    "    # найдём границы секций в списке строк:\n",
    "    header_start = lines.index(\"[PARAMETERS]\") + 1\n",
    "    data_start = lines.index(\"[LABELS]\") + 1\n",
    "\n",
    "    # прочитаем параметры\n",
    "    params = {}\n",
    "    for line in lines[header_start:data_start - 1]:\n",
    "        key, value = line.split(\"=\")\n",
    "        params[key] = int(value)\n",
    "\n",
    "    # прочитаем метки\n",
    "    labels = []\n",
    "    for line in lines[data_start:]:\n",
    "        # если в строке нет запятых, значит, это не метка и метки закончились\n",
    "        if line.count(\",\") < 2:\n",
    "            break\n",
    "        pos, level, name = line.split(\",\", maxsplit=2)\n",
    "        label = {\n",
    "            \"position\": int(pos) // params[\"BYTE_PER_SAMPLE\"] // params[\"N_CHANNEL\"],\n",
    "            \"level\": code_to_level[int(level)],\n",
    "            \"name\": name\n",
    "        }\n",
    "        labels.append(label)\n",
    "    return params, labels"
   ]
  },
  {
   "cell_type": "markdown",
   "metadata": {},
   "source": [
    "Нам понадобится файл cta_seg.zip "
   ]
  },
  {
   "cell_type": "code",
   "execution_count": null,
   "metadata": {},
   "outputs": [],
   "source": [
    "!unzip -q cta_seg.zip"
   ]
  },
  {
   "cell_type": "code",
   "execution_count": 5,
   "metadata": {},
   "outputs": [],
   "source": [
    "import glob\n",
    "files_B1 = glob.glob(\"cta_seg/*.seg_B1\", recursive=True)"
   ]
  },
  {
   "cell_type": "code",
   "execution_count": 10,
   "metadata": {},
   "outputs": [],
   "source": [
    "from collections import Counter"
   ]
  },
  {
   "cell_type": "code",
   "execution_count": null,
   "metadata": {},
   "outputs": [],
   "source": [
    "permissible_allophones = [\n",
    "    ('a1', 3748),\n",
    "    ('a0', 3178),\n",
    "    ('t', 3154),\n",
    "    ('o0', 3128),\n",
    "    ('i1', 3063),\n",
    "    ('n', 2948),\n",
    "    ('y4', 2699),\n",
    "    ('i4', 2682),\n",
    "    ('l', 2149),\n",
    "    ('k', 2135),\n",
    "    ('e0', 2111),\n",
    "    ('v', 2035),\n",
    "    ('r', 2017),\n",
    "    ('s', 2015),\n",
    "    (\"n'\", 1800),\n",
    "    ('d', 1726),\n",
    "    ('m', 1664),\n",
    "    ('a4', 1614),\n",
    "    ('p', 1612),\n",
    "    ('e4', 1468),\n",
    "    (\"l'\", 1432),\n",
    "    ('i0', 1311),\n",
    "    ('y1', 1272),\n",
    "    (\"s'\", 1201),\n",
    "    (\"t'\", 1144),\n",
    "    (\"r'\", 1079),\n",
    "    ('j', 1063),\n",
    "    ('z', 1017),\n",
    "    ('sh', 914),\n",
    "    ('ch', 906),\n",
    "    ('g', 859),\n",
    "    ('b', 842),\n",
    "    ('u0', 840),\n",
    "    ('u1', 807),\n",
    "    ('f', 785),\n",
    "    (\"m'\", 767),\n",
    "    ('u4', 750),\n",
    "    ('zh', 737),\n",
    "    (\"v'\", 663),\n",
    "    (\"d'\", 648),\n",
    "    ('y0', 636),\n",
    "    ('h', 542),\n",
    "    ('e1', 484),\n",
    "    ('c', 368),\n",
    "    ('a2', 365),\n",
    "    (\"k'\", 307),\n",
    "    (\"b'\", 260),\n",
    "    ('o4', 243),\n",
    "    ('sc', 233),\n",
    "    (\"p'\", 228),\n",
    "    (\"z'\", 178),\n",
    "    ('o1', 147),\n",
    "    (\"g'\", 95),\n",
    "    (\"f'\", 78),\n",
    "    ('H', 28),\n",
    "    (\"h'\", 25),\n",
    "    ('ch_', 16),\n",
    "    (\"zh'\", 14),\n",
    "    ('~', 5),\n",
    "    ('CH', 3),\n",
    "    ('C', 3),\n",
    "]"
   ]
  },
  {
   "cell_type": "code",
   "execution_count": null,
   "metadata": {},
   "outputs": [],
   "source": [
    "class2sound_vl = {\n",
    "    \"labials\": \"f v p b\".split(),\n",
    "    \"labials_palat\": \"f' v' p' b'\".split(),\n",
    "    \"dentals\": \"t d s z c\".split(),\n",
    "    \"dentals_palat\": \"t' d' s' z' ch sc r' CH zh'\".split(),\n",
    "}"
   ]
  },
  {
   "cell_type": "code",
   "execution_count": 15,
   "metadata": {},
   "outputs": [
    {
     "name": "stdout",
     "output_type": "stream",
     "text": [
      "d:/corpres/careva/cta\\cta0001-0010\\cta0005.seg_B1\n",
      "d:/corpres/careva/cta\\cta0191-0200\\cta0200.seg_B1\n",
      "d:/corpres/careva/cta\\cta0331-0340\\cta0338.seg_B1\n",
      "d:/corpres/careva/cta\\cta0371-0380\\cta0378.seg_B1\n",
      "d:/corpres/careva/cta\\cta0661-0670\\cta0663.seg_B1\n",
      "d:/corpres/careva/cta\\cta0731-0740\\cta0736.seg_B1\n",
      "d:/corpres/careva/cta\\cta0771-0780\\cta0779.seg_B1\n",
      "d:/corpres/careva/cta\\cta0781-0790\\cta0784.seg_B1\n",
      "d:/corpres/careva/cta\\cta0911-0920\\cta0920.seg_B1\n",
      "d:/corpres/careva/cta\\cta1001-1010\\cta1003.seg_B1\n"
     ]
    }
   ],
   "source": [
    "allophones = Counter()\n",
    "for file in files_B1:\n",
    "    params, labels = read_seg(file)\n",
    "    phones = [l[\"name\"] for l in labels if l[\"name\"]]\n",
    "    if \"zh'\" in phones:\n",
    "        print(file)\n",
    "    allophones.update(phones)"
   ]
  },
  {
   "cell_type": "code",
   "execution_count": 12,
   "metadata": {},
   "outputs": [
    {
     "data": {
      "text/plain": [
       "[('a1', 3748),\n",
       " ('a0', 3178),\n",
       " ('t', 3154),\n",
       " ('o0', 3128),\n",
       " ('i1', 3063),\n",
       " ('n', 2948),\n",
       " ('y4', 2699),\n",
       " ('i4', 2682),\n",
       " ('l', 2149),\n",
       " ('k', 2135),\n",
       " ('e0', 2111),\n",
       " ('v', 2035),\n",
       " ('r', 2017),\n",
       " ('s', 2015),\n",
       " (\"n'\", 1800),\n",
       " ('d', 1726),\n",
       " ('m', 1664),\n",
       " ('a4', 1614),\n",
       " ('p', 1612),\n",
       " ('e4', 1468),\n",
       " (\"l'\", 1432),\n",
       " ('i0', 1311),\n",
       " ('y1', 1272),\n",
       " (\"s'\", 1201),\n",
       " (\"t'\", 1144),\n",
       " (\"r'\", 1079),\n",
       " ('j', 1063),\n",
       " ('z', 1017),\n",
       " ('sh', 914),\n",
       " ('ch', 906),\n",
       " ('g', 859),\n",
       " ('b', 842),\n",
       " ('u0', 840),\n",
       " ('u1', 807),\n",
       " ('f', 785),\n",
       " (\"m'\", 767),\n",
       " ('u4', 750),\n",
       " ('zh', 737),\n",
       " (\"v'\", 663),\n",
       " (\"d'\", 648),\n",
       " ('y0', 636),\n",
       " ('h', 542),\n",
       " ('e1', 484),\n",
       " ('c', 368),\n",
       " ('a2', 365),\n",
       " (\"k'\", 307),\n",
       " (\"b'\", 260),\n",
       " ('o4', 243),\n",
       " ('sc', 233),\n",
       " (\"p'\", 228),\n",
       " (\"z'\", 178),\n",
       " ('o1', 147),\n",
       " (\"g'\", 95),\n",
       " (\"f'\", 78),\n",
       " ('H', 28),\n",
       " (\"h'\", 25),\n",
       " ('ch_', 16),\n",
       " (\"zh'\", 14),\n",
       " ('~', 5),\n",
       " ('CH', 3),\n",
       " ('C', 3),\n",
       " ('04', 2),\n",
       " ('i4 j i4', 1),\n",
       " (' n', 1),\n",
       " ('ie4', 1),\n",
       " (' r', 1)]"
      ]
     },
     "execution_count": 12,
     "metadata": {},
     "output_type": "execute_result"
    }
   ],
   "source": [
    "allophones.most_common()"
   ]
  }
 ],
 "metadata": {
  "kernelspec": {
   "display_name": "Python 3",
   "language": "python",
   "name": "python3"
  },
  "language_info": {
   "codemirror_mode": {
    "name": "ipython",
    "version": 3
   },
   "file_extension": ".py",
   "mimetype": "text/x-python",
   "name": "python",
   "nbconvert_exporter": "python",
   "pygments_lexer": "ipython3",
   "version": "3.10.7"
  }
 },
 "nbformat": 4,
 "nbformat_minor": 2
}
